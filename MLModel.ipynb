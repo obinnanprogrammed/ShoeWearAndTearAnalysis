{
 "cells": [
  {
   "cell_type": "code",
   "execution_count": null,
   "id": "65512612-4163-4ed7-852a-0edd3074fbdd",
   "metadata": {},
   "outputs": [],
   "source": [
    "%pip install --no-build-isolation --force-reinstall \\\n",
    "    \"boto3>=1.28.57\" \\\n",
    "    \"awscli>=1.29.57\" \\\n",
    "    \"botocore>=1.31.57\""
   ]
  },
  {
   "cell_type": "code",
   "execution_count": null,
   "id": "71fcc21f-7075-4a24-ac96-ed4c070a0abd",
   "metadata": {},
   "outputs": [],
   "source": [
    "import boto3\n",
    "import json\n",
    "import base64\n",
    "from botocore.config import Config\n",
    "\n",
    "# Initialize the Bedrock client\n",
    "config = Config(\n",
    "            region_name = os.getenv(\"BEDROCK_REGION\", \"us-west-2\"),\n",
    "            )\n",
    "bedrock_runtime = boto3.client('bedrock-runtime', config=config)\n",
    "MODEL_ID = \"us.meta.llama3-2-90b-instruct-v1:0\""
   ]
  },
  {
   "cell_type": "code",
   "execution_count": null,
   "id": "dedaddab-8ea6-4d82-bd2d-7af17046ef34",
   "metadata": {},
   "outputs": [],
   "source": [
    "[models['modelId'] for models in boto3_bedrock.list_foundation_models()['modelSummaries']]"
   ]
  },
  {
   "cell_type": "code",
   "execution_count": null,
   "id": "434a5d1c-5b8b-44f8-bec5-104178b91009",
   "metadata": {},
   "outputs": [],
   "source": [
    "# Read and encode the image\n",
    "image_path = \"./BadShoes.png\"  # Replace with the actual path to your image\n",
    "try:\n",
    "    # Open the image file and read its contents\n",
    "    with open(image_path, \"rb\") as image_file:\n",
    "        image_bytes = image_file.read()\n",
    "    # Encode the image bytes to base64\n",
    "    image_data = image_bytes\n",
    "except FileNotFoundError:\n",
    "    print(f\"Image file not found at {image_path}\")\n",
    "    image_data = None "
   ]
  },
  {
   "cell_type": "code",
   "execution_count": null,
   "id": "6238d035-d85f-427a-8b70-686f1eb53e82",
   "metadata": {},
   "outputs": [],
   "source": [
    "# Construct the messages for the model input\n",
    "messages =  {\n",
    "        \"role\": \"user\",\n",
    "        \"content\": [\n",
    "            {                \n",
    "                \"text\": \"Describe the quality of these shoes.\"\n",
    "            },\n",
    "            {                \n",
    "                \"image\": {\n",
    "                    \"format\": \"png\",\n",
    "                    \"source\": {\n",
    "                        \"bytes\":image_data\n",
    "                    }\n",
    "                }\n",
    "            }\n",
    "        ]\n",
    "    }"
   ]
  },
  {
   "cell_type": "code",
   "execution_count": null,
   "id": "88b98f99-908c-442f-ab70-0d1c9123b83c",
   "metadata": {},
   "outputs": [],
   "source": [
    "try:\n",
    "    # Invoke the SageMaker endpoint\n",
    "    response = bedrock_runtime.converse(\n",
    "        modelId=MODEL_ID, # MODEL_ID defined at the beginning\n",
    "        messages=[\n",
    "            messages\n",
    "        ],\n",
    "        inferenceConfig={\n",
    "        \"maxTokens\": 100,\n",
    "        \"temperature\": 0,\n",
    "        \"topP\": .1\n",
    "        },        \n",
    "    )\n",
    "    \n",
    "    # Read the response \n",
    "    print(response['output']['message']['content'][0]['text'])\n",
    "\n",
    "except Exception as e:\n",
    "    print(f\"An error occurred while invoking the endpoint: {str(e)}\")"
   ]
  }
 ],
 "metadata": {
  "kernelspec": {
   "display_name": "ShoeWear",
   "language": "python",
   "name": "shoewear"
  },
  "language_info": {
   "codemirror_mode": {
    "name": "ipython",
    "version": 3
   },
   "file_extension": ".py",
   "mimetype": "text/x-python",
   "name": "python",
   "nbconvert_exporter": "python",
   "pygments_lexer": "ipython3",
   "version": "3.10.4"
  }
 },
 "nbformat": 4,
 "nbformat_minor": 5
}
